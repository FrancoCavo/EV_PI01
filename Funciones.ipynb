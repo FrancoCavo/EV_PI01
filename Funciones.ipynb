{
 "cells": [
  {
   "cell_type": "code",
   "execution_count": 22,
   "metadata": {},
   "outputs": [],
   "source": [
    "import pandas as pd"
   ]
  },
  {
   "cell_type": "code",
   "execution_count": 23,
   "metadata": {},
   "outputs": [],
   "source": [
    "movies_funcion = pd.read_parquet('../EV_PI01\\movies_funcion.parquet')"
   ]
  },
  {
   "cell_type": "code",
   "execution_count": null,
   "metadata": {},
   "outputs": [],
   "source": [
    "#Eliminamos los nulos.\n",
    "#movies_funcion.dropna(axis=0, inplace=True)"
   ]
  },
  {
   "cell_type": "code",
   "execution_count": null,
   "metadata": {},
   "outputs": [],
   "source": [
    "#Agregamos columna day para el endpoint 2.\n",
    "#movies_funcion['day'] = movies_funcion['release_date'].dt.day_name()"
   ]
  },
  {
   "cell_type": "code",
   "execution_count": null,
   "metadata": {},
   "outputs": [],
   "source": [
    "#Agregamos columna year para el endpoint 3.\n",
    "#movies_funcion['year'] = movies_funcion['release_date'].dt.year"
   ]
  },
  {
   "cell_type": "code",
   "execution_count": 24,
   "metadata": {},
   "outputs": [
    {
     "data": {
      "text/html": [
       "<div>\n",
       "<style scoped>\n",
       "    .dataframe tbody tr th:only-of-type {\n",
       "        vertical-align: middle;\n",
       "    }\n",
       "\n",
       "    .dataframe tbody tr th {\n",
       "        vertical-align: top;\n",
       "    }\n",
       "\n",
       "    .dataframe thead th {\n",
       "        text-align: right;\n",
       "    }\n",
       "</style>\n",
       "<table border=\"1\" class=\"dataframe\">\n",
       "  <thead>\n",
       "    <tr style=\"text-align: right;\">\n",
       "      <th></th>\n",
       "      <th>id_pelicula</th>\n",
       "      <th>release_date</th>\n",
       "      <th>title</th>\n",
       "      <th>popularity</th>\n",
       "      <th>vote_count</th>\n",
       "      <th>vote_average</th>\n",
       "      <th>month</th>\n",
       "      <th>day</th>\n",
       "      <th>year</th>\n",
       "    </tr>\n",
       "  </thead>\n",
       "  <tbody>\n",
       "    <tr>\n",
       "      <th>0</th>\n",
       "      <td>862</td>\n",
       "      <td>1995-10-30</td>\n",
       "      <td>Toy Story</td>\n",
       "      <td>21.946943</td>\n",
       "      <td>5415.0</td>\n",
       "      <td>7.7</td>\n",
       "      <td>10</td>\n",
       "      <td>Monday</td>\n",
       "      <td>1995</td>\n",
       "    </tr>\n",
       "    <tr>\n",
       "      <th>1</th>\n",
       "      <td>8844</td>\n",
       "      <td>1995-12-15</td>\n",
       "      <td>Jumanji</td>\n",
       "      <td>17.015539</td>\n",
       "      <td>2413.0</td>\n",
       "      <td>6.9</td>\n",
       "      <td>12</td>\n",
       "      <td>Friday</td>\n",
       "      <td>1995</td>\n",
       "    </tr>\n",
       "    <tr>\n",
       "      <th>2</th>\n",
       "      <td>15602</td>\n",
       "      <td>1995-12-22</td>\n",
       "      <td>Grumpier Old Men</td>\n",
       "      <td>11.712900</td>\n",
       "      <td>92.0</td>\n",
       "      <td>6.5</td>\n",
       "      <td>12</td>\n",
       "      <td>Friday</td>\n",
       "      <td>1995</td>\n",
       "    </tr>\n",
       "    <tr>\n",
       "      <th>3</th>\n",
       "      <td>31357</td>\n",
       "      <td>1995-12-22</td>\n",
       "      <td>Waiting to Exhale</td>\n",
       "      <td>3.859495</td>\n",
       "      <td>34.0</td>\n",
       "      <td>6.1</td>\n",
       "      <td>12</td>\n",
       "      <td>Friday</td>\n",
       "      <td>1995</td>\n",
       "    </tr>\n",
       "    <tr>\n",
       "      <th>4</th>\n",
       "      <td>11862</td>\n",
       "      <td>1995-02-10</td>\n",
       "      <td>Father of the Bride Part II</td>\n",
       "      <td>8.387519</td>\n",
       "      <td>173.0</td>\n",
       "      <td>5.7</td>\n",
       "      <td>2</td>\n",
       "      <td>Friday</td>\n",
       "      <td>1995</td>\n",
       "    </tr>\n",
       "    <tr>\n",
       "      <th>...</th>\n",
       "      <td>...</td>\n",
       "      <td>...</td>\n",
       "      <td>...</td>\n",
       "      <td>...</td>\n",
       "      <td>...</td>\n",
       "      <td>...</td>\n",
       "      <td>...</td>\n",
       "      <td>...</td>\n",
       "      <td>...</td>\n",
       "    </tr>\n",
       "    <tr>\n",
       "      <th>45460</th>\n",
       "      <td>30840</td>\n",
       "      <td>1991-05-13</td>\n",
       "      <td>Robin Hood</td>\n",
       "      <td>5.683753</td>\n",
       "      <td>26.0</td>\n",
       "      <td>5.7</td>\n",
       "      <td>5</td>\n",
       "      <td>Monday</td>\n",
       "      <td>1991</td>\n",
       "    </tr>\n",
       "    <tr>\n",
       "      <th>45462</th>\n",
       "      <td>111109</td>\n",
       "      <td>2011-11-17</td>\n",
       "      <td>Century of Birthing</td>\n",
       "      <td>0.178241</td>\n",
       "      <td>3.0</td>\n",
       "      <td>9.0</td>\n",
       "      <td>11</td>\n",
       "      <td>Thursday</td>\n",
       "      <td>2011</td>\n",
       "    </tr>\n",
       "    <tr>\n",
       "      <th>45463</th>\n",
       "      <td>67758</td>\n",
       "      <td>2003-08-01</td>\n",
       "      <td>Betrayal</td>\n",
       "      <td>0.903007</td>\n",
       "      <td>6.0</td>\n",
       "      <td>3.8</td>\n",
       "      <td>8</td>\n",
       "      <td>Friday</td>\n",
       "      <td>2003</td>\n",
       "    </tr>\n",
       "    <tr>\n",
       "      <th>45464</th>\n",
       "      <td>227506</td>\n",
       "      <td>1917-10-21</td>\n",
       "      <td>Satan Triumphant</td>\n",
       "      <td>0.003503</td>\n",
       "      <td>0.0</td>\n",
       "      <td>0.0</td>\n",
       "      <td>10</td>\n",
       "      <td>Sunday</td>\n",
       "      <td>1917</td>\n",
       "    </tr>\n",
       "    <tr>\n",
       "      <th>45465</th>\n",
       "      <td>461257</td>\n",
       "      <td>2017-06-09</td>\n",
       "      <td>Queerama</td>\n",
       "      <td>0.163015</td>\n",
       "      <td>0.0</td>\n",
       "      <td>0.0</td>\n",
       "      <td>6</td>\n",
       "      <td>Friday</td>\n",
       "      <td>2017</td>\n",
       "    </tr>\n",
       "  </tbody>\n",
       "</table>\n",
       "<p>45346 rows × 9 columns</p>\n",
       "</div>"
      ],
      "text/plain": [
       "      id_pelicula release_date                        title  popularity  \\\n",
       "0             862   1995-10-30                    Toy Story   21.946943   \n",
       "1            8844   1995-12-15                      Jumanji   17.015539   \n",
       "2           15602   1995-12-22             Grumpier Old Men   11.712900   \n",
       "3           31357   1995-12-22            Waiting to Exhale    3.859495   \n",
       "4           11862   1995-02-10  Father of the Bride Part II    8.387519   \n",
       "...           ...          ...                          ...         ...   \n",
       "45460       30840   1991-05-13                   Robin Hood    5.683753   \n",
       "45462      111109   2011-11-17          Century of Birthing    0.178241   \n",
       "45463       67758   2003-08-01                     Betrayal    0.903007   \n",
       "45464      227506   1917-10-21             Satan Triumphant    0.003503   \n",
       "45465      461257   2017-06-09                     Queerama    0.163015   \n",
       "\n",
       "       vote_count  vote_average  month       day  year  \n",
       "0          5415.0           7.7     10    Monday  1995  \n",
       "1          2413.0           6.9     12    Friday  1995  \n",
       "2            92.0           6.5     12    Friday  1995  \n",
       "3            34.0           6.1     12    Friday  1995  \n",
       "4           173.0           5.7      2    Friday  1995  \n",
       "...           ...           ...    ...       ...   ...  \n",
       "45460        26.0           5.7      5    Monday  1991  \n",
       "45462         3.0           9.0     11  Thursday  2011  \n",
       "45463         6.0           3.8      8    Friday  2003  \n",
       "45464         0.0           0.0     10    Sunday  1917  \n",
       "45465         0.0           0.0      6    Friday  2017  \n",
       "\n",
       "[45346 rows x 9 columns]"
      ]
     },
     "execution_count": 24,
     "metadata": {},
     "output_type": "execute_result"
    }
   ],
   "source": [
    "movies_funcion"
   ]
  },
  {
   "cell_type": "code",
   "execution_count": null,
   "metadata": {},
   "outputs": [],
   "source": [
    "#movies_funcion.to_parquet('movies_funcion.parquet', engine='pyarrow')"
   ]
  },
  {
   "cell_type": "code",
   "execution_count": null,
   "metadata": {},
   "outputs": [],
   "source": [
    "# Creamos la primer funcion def cantidad_filmaciones_mes(Mes): Se ingresa un mes en idioma Español. \n",
    "# Debe devolver la cantidad de películas que fueron estrenadas en el mes \n",
    "# consultado en la totalidad del dataset."
   ]
  },
  {
   "cell_type": "code",
   "execution_count": null,
   "metadata": {},
   "outputs": [],
   "source": [
    "# Usamos el filtro en la columna 'month' del dataset y contamos la cantidad de celdas con len()\n",
    "\n",
    "mes_dicc = { \n",
    "    'enero': 1, 'febrero': 2, 'marzo': 3, 'abril': 4, 'mayo': 5, 'junio': 6, 'julio': 7, \n",
    "    'agosto': 8, 'septiembre': 9, 'octubre': 10, 'noviembre': 11, 'diciembre': 12 \n",
    "    }\n",
    "\n",
    "def cantidad_filmaciones_mes(Mes:str):\n",
    "    num_mes = mes_dicc[Mes.lower()]\n",
    "    lanzamientos_por_mes = len(movies_funcion[movies_funcion['month'] == num_mes])\n",
    "    return (f'En el mes de {Mes} se hicieron {lanzamientos_por_mes} lanzamientos')"
   ]
  },
  {
   "cell_type": "code",
   "execution_count": 27,
   "metadata": {},
   "outputs": [
    {
     "data": {
      "text/plain": [
       "'En el mes de Diciembre se hicieron 3781 lanzamientos'"
      ]
     },
     "execution_count": 27,
     "metadata": {},
     "output_type": "execute_result"
    }
   ],
   "source": [
    "cantidad_filmaciones_mes('Diciembre')"
   ]
  },
  {
   "cell_type": "code",
   "execution_count": null,
   "metadata": {},
   "outputs": [
    {
     "data": {
      "text/plain": [
       "0        False\n",
       "1        False\n",
       "2        False\n",
       "3        False\n",
       "4        False\n",
       "         ...  \n",
       "45462    False\n",
       "45463    False\n",
       "45464    False\n",
       "45465    False\n",
       "711      False\n",
       "Name: release_date, Length: 45347, dtype: bool"
      ]
     },
     "execution_count": 51,
     "metadata": {},
     "output_type": "execute_result"
    }
   ],
   "source": [
    "#Probando mascaras para hacer la misma funcion.\n",
    "\n",
    "#mask = movies_funcion['release_date'].dt.month == 1\n",
    "#mask"
   ]
  },
  {
   "cell_type": "code",
   "execution_count": null,
   "metadata": {},
   "outputs": [
    {
     "data": {
      "text/plain": [
       "5909"
      ]
     },
     "execution_count": 52,
     "metadata": {},
     "output_type": "execute_result"
    }
   ],
   "source": [
    "#movies_funcion['id_pelicula'][mask].shape[0]"
   ]
  },
  {
   "cell_type": "code",
   "execution_count": null,
   "metadata": {},
   "outputs": [],
   "source": [
    "#Podemos usar un diccionario para no tener que crear una columna nueva con los nombres de los meses en el dataset.\n",
    "\n",
    "#mes_dicc = { \n",
    "#    'enero': 1, 'febrero': 2, 'marzo': 3, 'abril': 4, 'mayo': 5, 'junio': 6, 'julio': 7, \n",
    "#    'agosto': 8, 'septiembre': 9, 'octubre': 10, 'noviembre': 11, 'diciembre': 12 \n",
    "#    }"
   ]
  },
  {
   "cell_type": "code",
   "execution_count": null,
   "metadata": {},
   "outputs": [
    {
     "data": {
      "text/plain": [
       "1"
      ]
     },
     "execution_count": 58,
     "metadata": {},
     "output_type": "execute_result"
    }
   ],
   "source": [
    "#mes_dicc['Enero'.lower()]"
   ]
  },
  {
   "cell_type": "code",
   "execution_count": null,
   "metadata": {},
   "outputs": [],
   "source": [
    "#dias_dicc = { \n",
    "#    'lunes': 1, 'martes': 2, 'miercoles': 3, 'jueves': 4, 'viernes': 5, 'sabado': 6, 'domingo': 7 \n",
    "#    }"
   ]
  },
  {
   "cell_type": "code",
   "execution_count": null,
   "metadata": {},
   "outputs": [],
   "source": [
    "# Para el punto dos tenemos que saber que dia de la semana corresponde a cada fecha en el dataset. \n",
    "# Se propone hacer una columna que directamente tengo el nombre del dia de la semana."
   ]
  },
  {
   "cell_type": "code",
   "execution_count": null,
   "metadata": {},
   "outputs": [
    {
     "name": "stdout",
     "output_type": "stream",
     "text": [
      "<class 'pandas.core.frame.DataFrame'>\n",
      "Index: 45346 entries, 0 to 45465\n",
      "Data columns (total 6 columns):\n",
      " #   Column        Non-Null Count  Dtype         \n",
      "---  ------        --------------  -----         \n",
      " 0   id_pelicula   45346 non-null  object        \n",
      " 1   release_date  45346 non-null  datetime64[ns]\n",
      " 2   title         45346 non-null  object        \n",
      " 3   popularity    45346 non-null  float64       \n",
      " 4   month         45346 non-null  float64       \n",
      " 5   day           45346 non-null  float64       \n",
      "dtypes: datetime64[ns](1), float64(3), object(2)\n",
      "memory usage: 2.4+ MB\n"
     ]
    }
   ],
   "source": [
    "#movies_funcion.info()"
   ]
  },
  {
   "cell_type": "code",
   "execution_count": null,
   "metadata": {},
   "outputs": [
    {
     "data": {
      "text/plain": [
       "0          Monday\n",
       "1          Friday\n",
       "2          Friday\n",
       "3          Friday\n",
       "4          Friday\n",
       "           ...   \n",
       "45460      Monday\n",
       "45462    Thursday\n",
       "45463      Friday\n",
       "45464      Sunday\n",
       "45465      Friday\n",
       "Name: release_date, Length: 45346, dtype: object"
      ]
     },
     "execution_count": 99,
     "metadata": {},
     "output_type": "execute_result"
    }
   ],
   "source": [
    "#movies_funcion['release_date'].dt.day_name()"
   ]
  },
  {
   "cell_type": "code",
   "execution_count": 28,
   "metadata": {},
   "outputs": [],
   "source": [
    "dias_dicc = { \n",
    "    'lunes': 'Monday', 'martes': 'Tuesday', 'miercoles': 'Wednesday', 'jueves': 'Thursday', \n",
    "    'viernes': 'Friday', 'sabado': 'Saturday', 'domingo': 'Sunday' \n",
    "    }"
   ]
  },
  {
   "cell_type": "code",
   "execution_count": 37,
   "metadata": {},
   "outputs": [],
   "source": [
    "def cantidad_filmaciones_dia(Dia:str):\n",
    "    Dia_traducido = dias_dicc[Dia.lower()]\n",
    "    lanzamientos_por_dia = len(movies_funcion[movies_funcion['day'] == Dia_traducido])\n",
    "    return (f'En el dia {Dia} se hicieron {lanzamientos_por_dia} estrenos.')"
   ]
  },
  {
   "cell_type": "code",
   "execution_count": 38,
   "metadata": {},
   "outputs": [
    {
     "data": {
      "text/plain": [
       "'En el dia Lunes se hicieron 3500 estrenos.'"
      ]
     },
     "execution_count": 38,
     "metadata": {},
     "output_type": "execute_result"
    }
   ],
   "source": [
    "cantidad_filmaciones_dia('Lunes')"
   ]
  },
  {
   "cell_type": "code",
   "execution_count": null,
   "metadata": {},
   "outputs": [],
   "source": [
    "# Para el punto 3.\n",
    "# def score_titulo( titulo_de_la_filmación ): Se ingresa el título de una \n",
    "# filmación esperando como respuesta el título, el año de estreno y el score."
   ]
  },
  {
   "cell_type": "code",
   "execution_count": 31,
   "metadata": {},
   "outputs": [],
   "source": [
    "titulo = 'Jumanji'"
   ]
  },
  {
   "cell_type": "code",
   "execution_count": 32,
   "metadata": {},
   "outputs": [
    {
     "data": {
      "text/html": [
       "<div>\n",
       "<style scoped>\n",
       "    .dataframe tbody tr th:only-of-type {\n",
       "        vertical-align: middle;\n",
       "    }\n",
       "\n",
       "    .dataframe tbody tr th {\n",
       "        vertical-align: top;\n",
       "    }\n",
       "\n",
       "    .dataframe thead th {\n",
       "        text-align: right;\n",
       "    }\n",
       "</style>\n",
       "<table border=\"1\" class=\"dataframe\">\n",
       "  <thead>\n",
       "    <tr style=\"text-align: right;\">\n",
       "      <th></th>\n",
       "      <th>title</th>\n",
       "      <th>year</th>\n",
       "      <th>popularity</th>\n",
       "    </tr>\n",
       "  </thead>\n",
       "  <tbody>\n",
       "    <tr>\n",
       "      <th>1</th>\n",
       "      <td>Jumanji</td>\n",
       "      <td>1995</td>\n",
       "      <td>17.015539</td>\n",
       "    </tr>\n",
       "  </tbody>\n",
       "</table>\n",
       "</div>"
      ],
      "text/plain": [
       "     title  year  popularity\n",
       "1  Jumanji  1995   17.015539"
      ]
     },
     "execution_count": 32,
     "metadata": {},
     "output_type": "execute_result"
    }
   ],
   "source": [
    "movies_funcion[movies_funcion['title'] == titulo][['title','year','popularity']]"
   ]
  },
  {
   "cell_type": "code",
   "execution_count": 171,
   "metadata": {},
   "outputs": [],
   "source": [
    "#Esta funcion fue mejorada por la siguiente.\n",
    "\n",
    "#def score_titulo( titulo_de_la_filmacion: str ):\n",
    "#    Titulo = movies_funcion[movies_funcion['title'] == titulo_de_la_filmacion][['title','year','popularity']].iloc[0,0]\n",
    "#    Year = movies_funcion[movies_funcion['title'] == titulo_de_la_filmacion][['title','year','popularity']].iloc[0,1]\n",
    "#    Popularity = movies_funcion[movies_funcion['title'] == titulo_de_la_filmacion][['title','year','popularity']].iloc[0,2]\n",
    "#    return {\"Titulo\": Titulo, \"Ano de lanzamiento\": Year, 'Puntaje': Popularity}"
   ]
  },
  {
   "cell_type": "code",
   "execution_count": null,
   "metadata": {},
   "outputs": [],
   "source": [
    "'''def score_titulo(titulo_de_la_filmacion: str):\n",
    "    # Filtrar las filas que coinciden con el titulo\n",
    "    titulo_de_la_filmacion = titulo_de_la_filmacion.lower()\n",
    "    filtro = movies_funcion[movies_funcion['title'].str.lower() == titulo_de_la_filmacion]\n",
    "\n",
    "    # Verificar si el filtro no esta vacio\n",
    "    if not filtro.empty:\n",
    "        Titulo = filtro['title'].iloc[0]\n",
    "        Year = filtro['year'].iloc[0]\n",
    "        Popularity = filtro['popularity'].iloc[0]\n",
    "        return {\"Titulo\": Titulo, \"Ano de lanzamiento\": str(Year), 'Puntaje': str(Popularity)}\n",
    "    else:\n",
    "        return {\"error\": \"No se encontro titulo\"}'''"
   ]
  },
  {
   "cell_type": "code",
   "execution_count": null,
   "metadata": {},
   "outputs": [],
   "source": [
    "def score_titulo(titulo_de_la_filmacion: str):\n",
    "    # Filtrar las filas que coinciden con el titulo\n",
    "    titulo_de_la_filmacion = titulo_de_la_filmacion.lower()\n",
    "    filtro = movies_funcion[movies_funcion['title'].str.lower() == titulo_de_la_filmacion]\n",
    "\n",
    "    # Verificar si el filtro no esta vacio\n",
    "    if not filtro.empty:\n",
    "        Titulo = filtro['title'].iloc[0]\n",
    "        Year = filtro['year'].iloc[0]\n",
    "        Popularity = filtro['popularity'].iloc[0]\n",
    "        return (f'La pelicula {Titulo}, fue estrenada en el año {Year} y tiene un puntaje de {Popularity}')\n",
    "    else:\n",
    "        return (\"Error, no se encontro titulo\")"
   ]
  },
  {
   "cell_type": "code",
   "execution_count": 52,
   "metadata": {},
   "outputs": [
    {
     "data": {
      "text/plain": [
       "'La pelicula Minions, fue estrenada en el año 2015 y tiene un puntaje de 547.488298'"
      ]
     },
     "execution_count": 52,
     "metadata": {},
     "output_type": "execute_result"
    }
   ],
   "source": [
    "score_titulo('Minions')"
   ]
  },
  {
   "cell_type": "code",
   "execution_count": 34,
   "metadata": {},
   "outputs": [
    {
     "data": {
      "text/html": [
       "<div>\n",
       "<style scoped>\n",
       "    .dataframe tbody tr th:only-of-type {\n",
       "        vertical-align: middle;\n",
       "    }\n",
       "\n",
       "    .dataframe tbody tr th {\n",
       "        vertical-align: top;\n",
       "    }\n",
       "\n",
       "    .dataframe thead th {\n",
       "        text-align: right;\n",
       "    }\n",
       "</style>\n",
       "<table border=\"1\" class=\"dataframe\">\n",
       "  <thead>\n",
       "    <tr style=\"text-align: right;\">\n",
       "      <th></th>\n",
       "      <th>id_pelicula</th>\n",
       "      <th>release_date</th>\n",
       "      <th>title</th>\n",
       "      <th>popularity</th>\n",
       "      <th>vote_count</th>\n",
       "      <th>vote_average</th>\n",
       "      <th>month</th>\n",
       "      <th>day</th>\n",
       "      <th>year</th>\n",
       "    </tr>\n",
       "  </thead>\n",
       "  <tbody>\n",
       "    <tr>\n",
       "      <th>0</th>\n",
       "      <td>862</td>\n",
       "      <td>1995-10-30</td>\n",
       "      <td>Toy Story</td>\n",
       "      <td>21.946943</td>\n",
       "      <td>5415.0</td>\n",
       "      <td>7.7</td>\n",
       "      <td>10</td>\n",
       "      <td>Monday</td>\n",
       "      <td>1995</td>\n",
       "    </tr>\n",
       "    <tr>\n",
       "      <th>1</th>\n",
       "      <td>8844</td>\n",
       "      <td>1995-12-15</td>\n",
       "      <td>Jumanji</td>\n",
       "      <td>17.015539</td>\n",
       "      <td>2413.0</td>\n",
       "      <td>6.9</td>\n",
       "      <td>12</td>\n",
       "      <td>Friday</td>\n",
       "      <td>1995</td>\n",
       "    </tr>\n",
       "    <tr>\n",
       "      <th>2</th>\n",
       "      <td>15602</td>\n",
       "      <td>1995-12-22</td>\n",
       "      <td>Grumpier Old Men</td>\n",
       "      <td>11.712900</td>\n",
       "      <td>92.0</td>\n",
       "      <td>6.5</td>\n",
       "      <td>12</td>\n",
       "      <td>Friday</td>\n",
       "      <td>1995</td>\n",
       "    </tr>\n",
       "    <tr>\n",
       "      <th>3</th>\n",
       "      <td>31357</td>\n",
       "      <td>1995-12-22</td>\n",
       "      <td>Waiting to Exhale</td>\n",
       "      <td>3.859495</td>\n",
       "      <td>34.0</td>\n",
       "      <td>6.1</td>\n",
       "      <td>12</td>\n",
       "      <td>Friday</td>\n",
       "      <td>1995</td>\n",
       "    </tr>\n",
       "    <tr>\n",
       "      <th>4</th>\n",
       "      <td>11862</td>\n",
       "      <td>1995-02-10</td>\n",
       "      <td>Father of the Bride Part II</td>\n",
       "      <td>8.387519</td>\n",
       "      <td>173.0</td>\n",
       "      <td>5.7</td>\n",
       "      <td>2</td>\n",
       "      <td>Friday</td>\n",
       "      <td>1995</td>\n",
       "    </tr>\n",
       "    <tr>\n",
       "      <th>...</th>\n",
       "      <td>...</td>\n",
       "      <td>...</td>\n",
       "      <td>...</td>\n",
       "      <td>...</td>\n",
       "      <td>...</td>\n",
       "      <td>...</td>\n",
       "      <td>...</td>\n",
       "      <td>...</td>\n",
       "      <td>...</td>\n",
       "    </tr>\n",
       "    <tr>\n",
       "      <th>45460</th>\n",
       "      <td>30840</td>\n",
       "      <td>1991-05-13</td>\n",
       "      <td>Robin Hood</td>\n",
       "      <td>5.683753</td>\n",
       "      <td>26.0</td>\n",
       "      <td>5.7</td>\n",
       "      <td>5</td>\n",
       "      <td>Monday</td>\n",
       "      <td>1991</td>\n",
       "    </tr>\n",
       "    <tr>\n",
       "      <th>45462</th>\n",
       "      <td>111109</td>\n",
       "      <td>2011-11-17</td>\n",
       "      <td>Century of Birthing</td>\n",
       "      <td>0.178241</td>\n",
       "      <td>3.0</td>\n",
       "      <td>9.0</td>\n",
       "      <td>11</td>\n",
       "      <td>Thursday</td>\n",
       "      <td>2011</td>\n",
       "    </tr>\n",
       "    <tr>\n",
       "      <th>45463</th>\n",
       "      <td>67758</td>\n",
       "      <td>2003-08-01</td>\n",
       "      <td>Betrayal</td>\n",
       "      <td>0.903007</td>\n",
       "      <td>6.0</td>\n",
       "      <td>3.8</td>\n",
       "      <td>8</td>\n",
       "      <td>Friday</td>\n",
       "      <td>2003</td>\n",
       "    </tr>\n",
       "    <tr>\n",
       "      <th>45464</th>\n",
       "      <td>227506</td>\n",
       "      <td>1917-10-21</td>\n",
       "      <td>Satan Triumphant</td>\n",
       "      <td>0.003503</td>\n",
       "      <td>0.0</td>\n",
       "      <td>0.0</td>\n",
       "      <td>10</td>\n",
       "      <td>Sunday</td>\n",
       "      <td>1917</td>\n",
       "    </tr>\n",
       "    <tr>\n",
       "      <th>45465</th>\n",
       "      <td>461257</td>\n",
       "      <td>2017-06-09</td>\n",
       "      <td>Queerama</td>\n",
       "      <td>0.163015</td>\n",
       "      <td>0.0</td>\n",
       "      <td>0.0</td>\n",
       "      <td>6</td>\n",
       "      <td>Friday</td>\n",
       "      <td>2017</td>\n",
       "    </tr>\n",
       "  </tbody>\n",
       "</table>\n",
       "<p>45346 rows × 9 columns</p>\n",
       "</div>"
      ],
      "text/plain": [
       "      id_pelicula release_date                        title  popularity  \\\n",
       "0             862   1995-10-30                    Toy Story   21.946943   \n",
       "1            8844   1995-12-15                      Jumanji   17.015539   \n",
       "2           15602   1995-12-22             Grumpier Old Men   11.712900   \n",
       "3           31357   1995-12-22            Waiting to Exhale    3.859495   \n",
       "4           11862   1995-02-10  Father of the Bride Part II    8.387519   \n",
       "...           ...          ...                          ...         ...   \n",
       "45460       30840   1991-05-13                   Robin Hood    5.683753   \n",
       "45462      111109   2011-11-17          Century of Birthing    0.178241   \n",
       "45463       67758   2003-08-01                     Betrayal    0.903007   \n",
       "45464      227506   1917-10-21             Satan Triumphant    0.003503   \n",
       "45465      461257   2017-06-09                     Queerama    0.163015   \n",
       "\n",
       "       vote_count  vote_average  month       day  year  \n",
       "0          5415.0           7.7     10    Monday  1995  \n",
       "1          2413.0           6.9     12    Friday  1995  \n",
       "2            92.0           6.5     12    Friday  1995  \n",
       "3            34.0           6.1     12    Friday  1995  \n",
       "4           173.0           5.7      2    Friday  1995  \n",
       "...           ...           ...    ...       ...   ...  \n",
       "45460        26.0           5.7      5    Monday  1991  \n",
       "45462         3.0           9.0     11  Thursday  2011  \n",
       "45463         6.0           3.8      8    Friday  2003  \n",
       "45464         0.0           0.0     10    Sunday  1917  \n",
       "45465         0.0           0.0      6    Friday  2017  \n",
       "\n",
       "[45346 rows x 9 columns]"
      ]
     },
     "execution_count": 34,
     "metadata": {},
     "output_type": "execute_result"
    }
   ],
   "source": [
    "movies_funcion"
   ]
  },
  {
   "cell_type": "code",
   "execution_count": 48,
   "metadata": {},
   "outputs": [],
   "source": [
    "# Enpoint 4: Se ingresa el título de una filmación esperando como respuesta el título, la cantidad de votos y el \n",
    "# valor promedio de las votaciones. La misma variable deberá de contar con al menos 2000 valoraciones, \n",
    "# caso contrario, debemos contar con un mensaje avisando que no cumple esta condición y que por ende, \n",
    "# no se devuelve ningun valor.\n",
    "\n",
    "def votos_titulo( titulo_de_la_filmacion ):\n",
    "    titulo_de_la_filmacion = titulo_de_la_filmacion.lower()\n",
    "    filtro = movies_funcion[movies_funcion['title'].str.lower() == titulo_de_la_filmacion]\n",
    "\n",
    "    # Verificar si el filtro no esta vacio\n",
    "    if not filtro.empty:\n",
    "        Titulo = filtro['title'].iloc[0]\n",
    "        Cant_votos = filtro['vote_count'].iloc[0]\n",
    "        Prom_votos = filtro['vote_average'].iloc[0]\n",
    "        if Cant_votos >= 2000:\n",
    "            return (f'La pelicula {Titulo}, cuenta con un total de {Cant_votos} valoraciones, con un promedio de {Prom_votos}')\n",
    "        else:\n",
    "            return (f'La pelicula {Titulo} no cumple con el minimo de 2000 valoraciones')\n",
    "    else:\n",
    "        return (\"Error, no se encontro titulo\")"
   ]
  },
  {
   "cell_type": "code",
   "execution_count": 56,
   "metadata": {},
   "outputs": [
    {
     "data": {
      "text/plain": [
       "'La pelicula Sabrina no cumple con el minimo de 2000 valoraciones'"
      ]
     },
     "execution_count": 56,
     "metadata": {},
     "output_type": "execute_result"
    }
   ],
   "source": [
    "votos_titulo('Sabrina')"
   ]
  },
  {
   "cell_type": "code",
   "execution_count": 55,
   "metadata": {},
   "outputs": [
    {
     "data": {
      "text/plain": [
       "2                   Grumpier Old Men\n",
       "3                  Waiting to Exhale\n",
       "4        Father of the Bride Part II\n",
       "5                               Heat\n",
       "6                            Sabrina\n",
       "                    ...             \n",
       "45460                     Robin Hood\n",
       "45462            Century of Birthing\n",
       "45463                       Betrayal\n",
       "45464               Satan Triumphant\n",
       "45465                       Queerama\n",
       "Name: title, Length: 44834, dtype: object"
      ]
     },
     "execution_count": 55,
     "metadata": {},
     "output_type": "execute_result"
    }
   ],
   "source": [
    "movies_funcion['title'][movies_funcion['vote_count'] <= 2000]"
   ]
  }
 ],
 "metadata": {
  "kernelspec": {
   "display_name": "Python 3",
   "language": "python",
   "name": "python3"
  },
  "language_info": {
   "codemirror_mode": {
    "name": "ipython",
    "version": 3
   },
   "file_extension": ".py",
   "mimetype": "text/x-python",
   "name": "python",
   "nbconvert_exporter": "python",
   "pygments_lexer": "ipython3",
   "version": "3.11.9"
  }
 },
 "nbformat": 4,
 "nbformat_minor": 2
}
